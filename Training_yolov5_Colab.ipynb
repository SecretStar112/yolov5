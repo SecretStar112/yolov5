{
  "nbformat": 4,
  "nbformat_minor": 0,
  "metadata": {
    "colab": {
      "name": "Training_yolov5_Colab.ipynb",
      "provenance": [],
      "collapsed_sections": []
    },
    "kernelspec": {
      "name": "python3",
      "display_name": "Python 3"
    },
    "language_info": {
      "name": "python"
    }
  },
  "cells": [
    {
      "cell_type": "markdown",
      "source": [
        "## Connect to google drive"
      ],
      "metadata": {
        "id": "_gSouaO3gSBc"
      }
    },
    {
      "cell_type": "code",
      "execution_count": 2,
      "metadata": {
        "colab": {
          "base_uri": "https://localhost:8080/"
        },
        "id": "xU4zgY5-zJNs",
        "outputId": "5351e240-96a7-4bcc-cdf9-1036704a2a1f"
      },
      "outputs": [
        {
          "output_type": "stream",
          "name": "stdout",
          "text": [
            "Mounted at /content/gdrive\n"
          ]
        }
      ],
      "source": [
        "from google.colab import drive\n",
        "\n",
        "drive.mount('/content/gdrive')"
      ]
    },
    {
      "cell_type": "markdown",
      "source": [
        "## Cloning repo"
      ],
      "metadata": {
        "id": "pVfS7gBJgXvS"
      }
    },
    {
      "cell_type": "code",
      "source": [
        "!git clone https://github.com/ultralytics/yolov5\n",
        "%cd yolov5"
      ],
      "metadata": {
        "id": "BFXwA7JE-7FT"
      },
      "execution_count": null,
      "outputs": []
    },
    {
      "cell_type": "markdown",
      "source": [
        "## Install requirements"
      ],
      "metadata": {
        "id": "B0RxomcAgajL"
      }
    },
    {
      "cell_type": "code",
      "source": [
        "!pip install -qr requirements.txt"
      ],
      "metadata": {
        "id": "nfXkR_rS_dya"
      },
      "execution_count": null,
      "outputs": []
    },
    {
      "cell_type": "code",
      "source": [
        "import torch\n",
        "\n",
        "print('Setup complete. Using torch %s %s' % (torch.__version__, \n",
        "                                             torch.cuda.get_device_properties(0) \n",
        "                                             if torch.cuda.is_available() else 'CPU'))"
      ],
      "metadata": {
        "id": "YHQwYzzJBWir"
      },
      "execution_count": null,
      "outputs": []
    },
    {
      "cell_type": "markdown",
      "source": [
        "## Train model"
      ],
      "metadata": {
        "id": "YRuYESJugeli"
      }
    },
    {
      "cell_type": "code",
      "source": [
        "!python train.py --img 640 --batch 8 --epochs 10 \\\n",
        "  --data your_data.yaml \\\n",
        "  --cfg your_cfg_file.yaml --weights your_wieghts.pt \\\n",
        "  --name name"
      ],
      "metadata": {
        "id": "rc04nOKeBlxR"
      },
      "execution_count": null,
      "outputs": []
    },
    {
      "cell_type": "markdown",
      "source": [
        "## Test model"
      ],
      "metadata": {
        "id": "Id1XngkXgkKa"
      }
    },
    {
      "cell_type": "code",
      "source": [
        "!python val.py --data your_data.yaml --weights your_wieghts.pt"
      ],
      "metadata": {
        "id": "Mzyv_LzVgsWS"
      },
      "execution_count": null,
      "outputs": []
    }
  ]
}