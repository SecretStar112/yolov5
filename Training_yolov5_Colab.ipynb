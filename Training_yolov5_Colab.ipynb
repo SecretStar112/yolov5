{
  "nbformat": 4,
  "nbformat_minor": 0,
  "metadata": {
    "colab": {
      "name": "Training_yolov5_Colab.ipynb",
      "provenance": []
    },
    "kernelspec": {
      "name": "python3",
      "display_name": "Python 3"
    },
    "language_info": {
      "name": "python"
    },
    "accelerator": "GPU"
  },
  "cells": [
    {
      "cell_type": "markdown",
      "source": [
        "## Connect to google drive"
      ],
      "metadata": {
        "id": "_gSouaO3gSBc"
      }
    },
    {
      "cell_type": "code",
      "execution_count": null,
      "metadata": {
        "colab": {
          "base_uri": "https://localhost:8080/"
        },
        "id": "xU4zgY5-zJNs",
        "outputId": "fdf87260-0a0d-42f2-83eb-c131fee8f1a7"
      },
      "outputs": [
        {
          "output_type": "stream",
          "name": "stdout",
          "text": [
            "Mounted at /content/gdrive\n"
          ]
        }
      ],
      "source": [
        "from google.colab import drive\n",
        "\n",
        "drive.mount('/content/gdrive')"
      ]
    },
    {
      "cell_type": "markdown",
      "source": [
        "## Cloning repo"
      ],
      "metadata": {
        "id": "pVfS7gBJgXvS"
      }
    },
    {
      "cell_type": "code",
      "source": [
        "!git clone https://github.com/ultralytics/yolov5  # clone repo\n",
        "%cd yolov5\n",
        "!git reset --hard 886f1c03d839575afecb059accf74296fad395b6"
      ],
      "metadata": {
        "id": "hxyoZBO99rYV"
      },
      "execution_count": null,
      "outputs": []
    },
    {
      "cell_type": "markdown",
      "source": [
        "## Install requirements"
      ],
      "metadata": {
        "id": "B0RxomcAgajL"
      }
    },
    {
      "cell_type": "code",
      "source": [
        "!pip install -qr requirements.txt  # install dependencies (ignore errors)\n",
        "import torch\n",
        "\n",
        "from IPython.display import Image, clear_output  # to display images\n",
        "from utils.google_utils import gdrive_download  # to download models/datasets\n",
        "\n",
        "# clear_output()\n",
        "print('Setup complete. Using torch %s %s' % (torch.__version__, torch.cuda.get_device_properties(0) if torch.cuda.is_available() else 'CPU'))"
      ],
      "metadata": {
        "id": "YHQwYzzJBWir"
      },
      "execution_count": null,
      "outputs": []
    },
    {
      "cell_type": "markdown",
      "source": [
        "## Train model"
      ],
      "metadata": {
        "id": "YRuYESJugeli"
      }
    },
    {
      "cell_type": "code",
      "source": [
        "!python train.py --img 640 --batch 8 --epochs 10 \\\n",
        "  --data your_data.yaml \\\n",
        "  --cfg your_cfg_file.yaml --weights your_wieghts.pt \\\n",
        "  --name name"
      ],
      "metadata": {
        "id": "rc04nOKeBlxR"
      },
      "execution_count": null,
      "outputs": []
    },
    {
      "cell_type": "markdown",
      "source": [
        "## Test model"
      ],
      "metadata": {
        "id": "Id1XngkXgkKa"
      }
    },
    {
      "cell_type": "code",
      "source": [
        "!python test.py --data your_data.yaml --weights your_model.pt"
      ],
      "metadata": {
        "id": "Mzyv_LzVgsWS"
      },
      "execution_count": null,
      "outputs": []
    }
  ]
}