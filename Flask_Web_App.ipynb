{
  "nbformat": 4,
  "nbformat_minor": 0,
  "metadata": {
    "colab": {
      "name": "Flask_Web_App.ipynb",
      "provenance": [],
      "collapsed_sections": []
    },
    "kernelspec": {
      "name": "python3",
      "display_name": "Python 3"
    },
    "language_info": {
      "name": "python"
    }
  },
  "cells": [
    {
      "cell_type": "markdown",
      "source": [
        "## Install requirements and import dependencies\n"
      ],
      "metadata": {
        "id": "SffhK_14nuSV"
      }
    },
    {
      "cell_type": "code",
      "execution_count": null,
      "metadata": {
        "id": "EkZTdzVHfFnJ"
      },
      "outputs": [],
      "source": [
        "!pip install flask_ngrok\n",
        "!pip install pyngrok"
      ]
    },
    {
      "cell_type": "code",
      "source": [
        "import flask\n",
        "import io\n",
        "import os\n",
        "import torch\n",
        "from flask import Flask, render_template, request, redirect\n",
        "from flask_ngrok import run_with_ngrok\n",
        "from PIL import Image"
      ],
      "metadata": {
        "id": "xgRmBRNVfJkY"
      },
      "execution_count": 12,
      "outputs": []
    },
    {
      "cell_type": "markdown",
      "source": [
        "# Initialize Flask application"
      ],
      "metadata": {
        "id": "_0phrBwQn0DT"
      }
    },
    {
      "cell_type": "code",
      "source": [
        "app = Flask(__name__)\n",
        "run_with_ngrok(app)"
      ],
      "metadata": {
        "id": "WoPjX63dfLH9"
      },
      "execution_count": null,
      "outputs": []
    },
    {
      "cell_type": "markdown",
      "source": [
        "## Routing"
      ],
      "metadata": {
        "id": "5k_MV91Mn6Zq"
      }
    },
    {
      "cell_type": "code",
      "source": [
        "@app.route(\"/\", methods=[\"GET\", \"POST\"])\n",
        "def predict():\n",
        "    \"\"\"\n",
        "    get:\n",
        "      description: Get a predicted bounding boxes in image\n",
        "\n",
        "    post:\n",
        "      description: Upload an image and save it to predict bounding boxes\n",
        "    \"\"\"\n",
        "    if request.method == \"POST\":\n",
        "        if \"file\" not in request.files:\n",
        "            return redirect(request.url)\n",
        "        file = request.files[\"file\"]\n",
        "        if not file:\n",
        "            return\n",
        "\n",
        "        img_bytes = file.read()\n",
        "        img = Image.open(io.BytesIO(img_bytes))\n",
        "        results = model(img, size=640)\n",
        "\n",
        "        results.render() \n",
        "        for img in results.imgs:\n",
        "            img_base64 = Image.fromarray(img)\n",
        "            img_base64.save(\"static/image0.jpg\", format=\"JPEG\")\n",
        "        return redirect(\"static/image0.jpg\")\n",
        "\n",
        "    return render_template(\"index.html\")"
      ],
      "metadata": {
        "id": "XjcoYNz3fMpd"
      },
      "execution_count": null,
      "outputs": []
    },
    {
      "cell_type": "markdown",
      "source": [
        "## Run Flask app"
      ],
      "metadata": {
        "id": "l5iJ-1lan-KJ"
      }
    },
    {
      "cell_type": "code",
      "source": [
        "#type your path\n",
        "path_to_weights = '/content/best.pt'\n",
        "if __name__=='__main__':\n",
        "  model = torch.hub.load('ultralytics/yolov5', 'custom', path_to_weights)\n",
        "  model.eval()\n",
        "  app.run()"
      ],
      "metadata": {
        "id": "30w8MtUHfPU9"
      },
      "execution_count": null,
      "outputs": []
    },
    {
      "cell_type": "code",
      "source": [
        "!ngrok authtoken #your_token"
      ],
      "metadata": {
        "id": "PtXlhL6ufQ9s"
      },
      "execution_count": null,
      "outputs": []
    }
  ]
}