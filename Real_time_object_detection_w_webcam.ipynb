{
  "cells": [
    {
      "cell_type": "code",
      "source": [
        "!git clone https://github.com/Slava-git/yolov5"
      ],
      "metadata": {
        "id": "uisyx2-vUq2Q"
      },
      "execution_count": null,
      "outputs": []
    },
    {
      "cell_type": "markdown",
      "source": [
        "## Dependencies"
      ],
      "metadata": {
        "id": "o2xr46rndRAe"
      }
    },
    {
      "cell_type": "code",
      "source": [
        "# import dependencies\n",
        "import cv2\n",
        "import numpy as np\n",
        "import PIL\n",
        "import io\n",
        "import html\n",
        "import time\n",
        "import torch  \n",
        "\n",
        "from IPython.display import display, Javascript, Image\n",
        "from google.colab.output import eval_js\n",
        "from base64 import b64decode, b64encode"
      ],
      "metadata": {
        "id": "T32PDJO6OnN6"
      },
      "execution_count": 1,
      "outputs": []
    },
    {
      "cell_type": "markdown",
      "source": [
        "## Helping functions"
      ],
      "metadata": {
        "id": "fl2xOVMwdaUd"
      }
    },
    {
      "cell_type": "code",
      "source": [
        "def js_to_image(js_reply):\n",
        "  \"\"\"Convert frame from webcam to bgr image\n",
        "\n",
        "  Params:\n",
        "          js_reply: JavaScript object containing image from webcam\n",
        "  Returns:\n",
        "          img: OpenCV BGR image\n",
        "  \"\"\"\n",
        "\n",
        "  image_bytes = b64decode(js_reply.split(',')[1])\n",
        "\n",
        "  jpg_as_np = np.frombuffer(image_bytes, dtype=np.uint8)\n",
        "\n",
        "  img = cv2.imdecode(jpg_as_np, flags=1)\n",
        "\n",
        "  return img\n",
        "\n",
        "\n",
        "def bbox_to_bytes(bbox_array):\n",
        "  \"\"\"Convert numpy array to bytes\n",
        "\n",
        "  Params:\n",
        "        bbox_array: Numpy array (pixels) containing rectangle to overlay on video stream.\n",
        "  Returns:\n",
        "        bbox_bytes: Base64 image byte string\n",
        "  \"\"\"\n",
        "\n",
        "  bbox_PIL = PIL.Image.fromarray(bbox_array, 'RGBA')\n",
        "  iobuf = io.BytesIO()\n",
        "\n",
        "  bbox_PIL.save(iobuf, format='png')\n",
        "\n",
        "  bbox_bytes = f'data:image/png;base64, {(str(b64encode(iobuf.getvalue()), \"utf-8\"))}'\n",
        "  \n",
        "  return bbox_bytes"
      ],
      "metadata": {
        "id": "nIJKywRhTWCg"
      },
      "execution_count": 7,
      "outputs": []
    },
    {
      "cell_type": "markdown",
      "source": [
        "## Providing webcam as live video stream"
      ],
      "metadata": {
        "id": "zCsd-hsmdoHD"
      }
    },
    {
      "cell_type": "code",
      "source": [
        "def video_stream():\n",
        "  js = Javascript('/content/yolov5/video_capture_colab.js')\n",
        "\n",
        "  display(js)\n",
        "  \n",
        "def video_frame(label, bbox):\n",
        "  data = eval_js(f'stream_frame(\"{label}\", \"{bbox}\")')\n",
        "  return data"
      ],
      "metadata": {
        "id": "qDu6cOh1Opvg"
      },
      "execution_count": 11,
      "outputs": []
    },
    {
      "cell_type": "markdown",
      "source": [
        "## Model initializing and capturing video"
      ],
      "metadata": {
        "id": "vs-_bcizd0PN"
      }
    },
    {
      "cell_type": "code",
      "source": [
        "def start_stream(path_to_model):\n",
        "  \"\"\"Predict and draw bounding boxes on each frame\n",
        "\n",
        "    Params:\n",
        "      path_to_model: Path to weights\n",
        "  \"\"\"\n",
        "  path_to_weights = path_to_model\n",
        "\n",
        "  model = torch.hub.load('ultralytics/yolov5', 'custom', path_to_weights)\n",
        "  model.eval()\n",
        "  # start streaming video from webcam\n",
        "  video_stream()\n",
        "  # label for video\n",
        "  label_html = 'Capturing...'\n",
        "  # initialze bounding box to empty\n",
        "  bbox = ''\n",
        "  count = 0 \n",
        "  while True:\n",
        "      js_reply = video_frame(label_html, bbox)\n",
        "      if not js_reply:\n",
        "          break\n",
        "\n",
        "      # convert JS response to OpenCV Image\n",
        "      img = js_to_image(js_reply[\"img\"])\n",
        "\n",
        "      # create transparent overlay for bounding box\n",
        "      bbox_array = np.zeros([480,640,4], dtype=np.uint8)\n",
        "\n",
        "      result = model(img, size=640)\n",
        "      \n",
        "      df = result.pandas().xyxy[0]\n",
        "      for index, row in df.iterrows():\n",
        "\n",
        "        bbox_array = cv2.rectangle(bbox_array, (int(row[\"xmin\"]), int(row[\"ymin\"])), \n",
        "                                    (int(row[\"xmax\"]), int(row[\"ymax\"])), (255,0,0),2)\n",
        "        \n",
        "        cv2.putText(bbox_array, str(row[\"name\"]), (int(row[\"xmin\"]), int(row[\"ymin\"])-10),\n",
        "                    cv2.FONT_HERSHEY_SIMPLEX, 0.9, (36,255,12), 2)\n",
        "        \n",
        "      bbox_array[:,:,3] = (bbox_array.max(axis = 2) > 0 ).astype(int) * 255\n",
        "      \n",
        "      bbox = bbox_to_bytes(bbox_array)"
      ],
      "metadata": {
        "id": "D2CZE3k1Ty41"
      },
      "execution_count": 12,
      "outputs": []
    },
    {
      "cell_type": "code",
      "source": [
        "start_stream('/content/best.pt')"
      ],
      "metadata": {
        "id": "YqNiFafPkHFy"
      },
      "execution_count": null,
      "outputs": []
    }
  ],
  "metadata": {
    "colab": {
      "name": "Real_time_object_detection_w_webcam.ipynb",
      "provenance": [],
      "collapsed_sections": []
    },
    "kernelspec": {
      "display_name": "Python 3",
      "name": "python3"
    },
    "language_info": {
      "name": "python"
    }
  },
  "nbformat": 4,
  "nbformat_minor": 0
}